{
 "cells": [
  {
   "cell_type": "code",
   "execution_count": 1,
   "id": "0dd15382-f789-4cb7-9b87-0d9d14c59472",
   "metadata": {},
   "outputs": [],
   "source": [
    "import pyforest as pyft\n",
    "from sklearn.model_selection import train_test_split"
   ]
  },
  {
   "cell_type": "code",
   "execution_count": 3,
   "id": "4bed2546-3362-422b-976c-2cb7efb55690",
   "metadata": {},
   "outputs": [],
   "source": [
    "from sklearn import decomposition\n",
    "#from hunga_bunga.classification import HungaBungaClassifier, HungaBungaZeroKnowledge, HungaBungaRandomClassifier\n"
   ]
  },
  {
   "cell_type": "code",
   "execution_count": 2,
   "id": "50247340-dc53-4f93-82af-56990415b0c1",
   "metadata": {
    "collapsed": true,
    "jupyter": {
     "outputs_hidden": true
    },
    "tags": []
   },
   "outputs": [
    {
     "data": {
      "text/plain": [
       "['ARIMA',\n",
       " 'CountVectorizer',\n",
       " 'ElasticNet',\n",
       " 'ElasticNetCV',\n",
       " 'GradientBoostingClassifier',\n",
       " 'GradientBoostingRegressor',\n",
       " 'GridSearchCV',\n",
       " 'Image',\n",
       " 'KFold',\n",
       " 'KMeans',\n",
       " 'LabelEncoder',\n",
       " 'Lasso',\n",
       " 'LassoCV',\n",
       " 'LazyImport',\n",
       " 'LinearRegression',\n",
       " 'LogisticRegression',\n",
       " 'MinMaxScaler',\n",
       " 'OneHotEncoder',\n",
       " 'PCA',\n",
       " 'Path',\n",
       " 'PolynomialFeatures',\n",
       " 'Prophet',\n",
       " 'RandomForestClassifier',\n",
       " 'RandomForestRegressor',\n",
       " 'RandomizedSearchCV',\n",
       " 'Ridge',\n",
       " 'RidgeCV',\n",
       " 'RobustScaler',\n",
       " 'SimpleImputer',\n",
       " 'SparkContext',\n",
       " 'StandardScaler',\n",
       " 'StratifiedKFold',\n",
       " 'TSNE',\n",
       " 'TfidfVectorizer',\n",
       " '__builtins__',\n",
       " '__cached__',\n",
       " '__doc__',\n",
       " '__file__',\n",
       " '__loader__',\n",
       " '__name__',\n",
       " '__package__',\n",
       " '__path__',\n",
       " '__spec__',\n",
       " '__version__',\n",
       " '_importable',\n",
       " '_imports',\n",
       " '_jupyter_labextension_paths',\n",
       " '_jupyter_nbextension_paths',\n",
       " 'active_imports',\n",
       " 'alt',\n",
       " 'bokeh',\n",
       " 'cross_val_score',\n",
       " 'cv2',\n",
       " 'dash',\n",
       " 'dd',\n",
       " 'dt',\n",
       " 'fastai',\n",
       " 'fbprophet',\n",
       " 'gensim',\n",
       " 'get_user_symbols',\n",
       " 'glob',\n",
       " 'go',\n",
       " 'import_symbol',\n",
       " 'imutils',\n",
       " 'install_extensions',\n",
       " 'install_labextension',\n",
       " 'install_nbextension',\n",
       " 'keras',\n",
       " 'lazy_imports',\n",
       " 'lgb',\n",
       " 'load_workbook',\n",
       " 'metrics',\n",
       " 'mpl',\n",
       " 'nltk',\n",
       " 'np',\n",
       " 'open_workbook',\n",
       " 'os',\n",
       " 'pd',\n",
       " 'pickle',\n",
       " 'plt',\n",
       " 'px',\n",
       " 'py',\n",
       " 'pydot',\n",
       " 'pyforest_imports',\n",
       " 're',\n",
       " 'sg',\n",
       " 'skimage',\n",
       " 'sklearn',\n",
       " 'sm',\n",
       " 'sns',\n",
       " 'spacy',\n",
       " 'statistics',\n",
       " 'stats',\n",
       " 'svm',\n",
       " 'sys',\n",
       " 'textblob',\n",
       " 'tf',\n",
       " 'torch',\n",
       " 'tqdm',\n",
       " 'train_test_split',\n",
       " 'user_specific_imports',\n",
       " 'user_symbols',\n",
       " 'utils',\n",
       " 'wr',\n",
       " 'xgb']"
      ]
     },
     "execution_count": 2,
     "metadata": {},
     "output_type": "execute_result"
    }
   ],
   "source": [
    "dir(pyft)"
   ]
  },
  {
   "cell_type": "code",
   "execution_count": 4,
   "id": "15d1b2f2-7d14-478b-a777-4bbfac16c8f4",
   "metadata": {},
   "outputs": [
    {
     "data": {
      "application/javascript": [
       "\n",
       "        if (window._pyforest_update_imports_cell) { window._pyforest_update_imports_cell('import pandas as pd'); }\n",
       "    "
      ],
      "text/plain": [
       "<IPython.core.display.Javascript object>"
      ]
     },
     "metadata": {},
     "output_type": "display_data"
    }
   ],
   "source": [
    "Customer_Churn_df = pd.read_csv('Churn Modeling.csv')"
   ]
  },
  {
   "cell_type": "code",
   "execution_count": 5,
   "id": "a93bf2f0-c23c-42ee-b855-27c538727117",
   "metadata": {},
   "outputs": [
    {
     "data": {
      "text/html": [
       "<div>\n",
       "<style scoped>\n",
       "    .dataframe tbody tr th:only-of-type {\n",
       "        vertical-align: middle;\n",
       "    }\n",
       "\n",
       "    .dataframe tbody tr th {\n",
       "        vertical-align: top;\n",
       "    }\n",
       "\n",
       "    .dataframe thead th {\n",
       "        text-align: right;\n",
       "    }\n",
       "</style>\n",
       "<table border=\"1\" class=\"dataframe\">\n",
       "  <thead>\n",
       "    <tr style=\"text-align: right;\">\n",
       "      <th></th>\n",
       "      <th>RowNumber</th>\n",
       "      <th>CustomerId</th>\n",
       "      <th>Surname</th>\n",
       "      <th>CreditScore</th>\n",
       "      <th>Geography</th>\n",
       "      <th>Gender</th>\n",
       "      <th>Age</th>\n",
       "      <th>Tenure</th>\n",
       "      <th>Balance</th>\n",
       "      <th>NumOfProducts</th>\n",
       "      <th>HasCrCard</th>\n",
       "      <th>IsActiveMember</th>\n",
       "      <th>EstimatedSalary</th>\n",
       "      <th>Exited</th>\n",
       "    </tr>\n",
       "  </thead>\n",
       "  <tbody>\n",
       "    <tr>\n",
       "      <th>0</th>\n",
       "      <td>1</td>\n",
       "      <td>15634602</td>\n",
       "      <td>Hargrave</td>\n",
       "      <td>619</td>\n",
       "      <td>France</td>\n",
       "      <td>Female</td>\n",
       "      <td>42</td>\n",
       "      <td>2</td>\n",
       "      <td>0.00</td>\n",
       "      <td>1</td>\n",
       "      <td>1</td>\n",
       "      <td>1</td>\n",
       "      <td>101348.88</td>\n",
       "      <td>1</td>\n",
       "    </tr>\n",
       "    <tr>\n",
       "      <th>1</th>\n",
       "      <td>2</td>\n",
       "      <td>15647311</td>\n",
       "      <td>Hill</td>\n",
       "      <td>608</td>\n",
       "      <td>Spain</td>\n",
       "      <td>Female</td>\n",
       "      <td>41</td>\n",
       "      <td>1</td>\n",
       "      <td>83807.86</td>\n",
       "      <td>1</td>\n",
       "      <td>0</td>\n",
       "      <td>1</td>\n",
       "      <td>112542.58</td>\n",
       "      <td>0</td>\n",
       "    </tr>\n",
       "    <tr>\n",
       "      <th>2</th>\n",
       "      <td>3</td>\n",
       "      <td>15619304</td>\n",
       "      <td>Onio</td>\n",
       "      <td>502</td>\n",
       "      <td>France</td>\n",
       "      <td>Female</td>\n",
       "      <td>42</td>\n",
       "      <td>8</td>\n",
       "      <td>159660.80</td>\n",
       "      <td>3</td>\n",
       "      <td>1</td>\n",
       "      <td>0</td>\n",
       "      <td>113931.57</td>\n",
       "      <td>1</td>\n",
       "    </tr>\n",
       "    <tr>\n",
       "      <th>3</th>\n",
       "      <td>4</td>\n",
       "      <td>15701354</td>\n",
       "      <td>Boni</td>\n",
       "      <td>699</td>\n",
       "      <td>France</td>\n",
       "      <td>Female</td>\n",
       "      <td>39</td>\n",
       "      <td>1</td>\n",
       "      <td>0.00</td>\n",
       "      <td>2</td>\n",
       "      <td>0</td>\n",
       "      <td>0</td>\n",
       "      <td>93826.63</td>\n",
       "      <td>0</td>\n",
       "    </tr>\n",
       "    <tr>\n",
       "      <th>4</th>\n",
       "      <td>5</td>\n",
       "      <td>15737888</td>\n",
       "      <td>Mitchell</td>\n",
       "      <td>850</td>\n",
       "      <td>Spain</td>\n",
       "      <td>Female</td>\n",
       "      <td>43</td>\n",
       "      <td>2</td>\n",
       "      <td>125510.82</td>\n",
       "      <td>1</td>\n",
       "      <td>1</td>\n",
       "      <td>1</td>\n",
       "      <td>79084.10</td>\n",
       "      <td>0</td>\n",
       "    </tr>\n",
       "  </tbody>\n",
       "</table>\n",
       "</div>"
      ],
      "text/plain": [
       "   RowNumber  CustomerId   Surname  CreditScore Geography  Gender  Age  \\\n",
       "0          1    15634602  Hargrave          619    France  Female   42   \n",
       "1          2    15647311      Hill          608     Spain  Female   41   \n",
       "2          3    15619304      Onio          502    France  Female   42   \n",
       "3          4    15701354      Boni          699    France  Female   39   \n",
       "4          5    15737888  Mitchell          850     Spain  Female   43   \n",
       "\n",
       "   Tenure    Balance  NumOfProducts  HasCrCard  IsActiveMember  \\\n",
       "0       2       0.00              1          1               1   \n",
       "1       1   83807.86              1          0               1   \n",
       "2       8  159660.80              3          1               0   \n",
       "3       1       0.00              2          0               0   \n",
       "4       2  125510.82              1          1               1   \n",
       "\n",
       "   EstimatedSalary  Exited  \n",
       "0        101348.88       1  \n",
       "1        112542.58       0  \n",
       "2        113931.57       1  \n",
       "3         93826.63       0  \n",
       "4         79084.10       0  "
      ]
     },
     "execution_count": 5,
     "metadata": {},
     "output_type": "execute_result"
    }
   ],
   "source": [
    "Customer_Churn_df.head()"
   ]
  },
  {
   "cell_type": "code",
   "execution_count": 6,
   "id": "79afba26-1c12-40ad-8c1c-89ccccb70ec4",
   "metadata": {},
   "outputs": [],
   "source": [
    "Customer_Churn_df.drop('RowNumber', axis=1, inplace=True)"
   ]
  },
  {
   "cell_type": "code",
   "execution_count": 7,
   "id": "b556c73e-9cce-4f8b-a77d-42d38c6fe9a8",
   "metadata": {},
   "outputs": [],
   "source": [
    "Customer_Churn_df.set_index('CustomerId', inplace=True)"
   ]
  },
  {
   "cell_type": "code",
   "execution_count": 8,
   "id": "95170b3a-6a13-4f17-b68f-13c94d47f6db",
   "metadata": {},
   "outputs": [
    {
     "data": {
      "text/html": [
       "<div>\n",
       "<style scoped>\n",
       "    .dataframe tbody tr th:only-of-type {\n",
       "        vertical-align: middle;\n",
       "    }\n",
       "\n",
       "    .dataframe tbody tr th {\n",
       "        vertical-align: top;\n",
       "    }\n",
       "\n",
       "    .dataframe thead th {\n",
       "        text-align: right;\n",
       "    }\n",
       "</style>\n",
       "<table border=\"1\" class=\"dataframe\">\n",
       "  <thead>\n",
       "    <tr style=\"text-align: right;\">\n",
       "      <th></th>\n",
       "      <th>Surname</th>\n",
       "      <th>CreditScore</th>\n",
       "      <th>Geography</th>\n",
       "      <th>Gender</th>\n",
       "      <th>Age</th>\n",
       "      <th>Tenure</th>\n",
       "      <th>Balance</th>\n",
       "      <th>NumOfProducts</th>\n",
       "      <th>HasCrCard</th>\n",
       "      <th>IsActiveMember</th>\n",
       "      <th>EstimatedSalary</th>\n",
       "      <th>Exited</th>\n",
       "    </tr>\n",
       "    <tr>\n",
       "      <th>CustomerId</th>\n",
       "      <th></th>\n",
       "      <th></th>\n",
       "      <th></th>\n",
       "      <th></th>\n",
       "      <th></th>\n",
       "      <th></th>\n",
       "      <th></th>\n",
       "      <th></th>\n",
       "      <th></th>\n",
       "      <th></th>\n",
       "      <th></th>\n",
       "      <th></th>\n",
       "    </tr>\n",
       "  </thead>\n",
       "  <tbody>\n",
       "    <tr>\n",
       "      <th>15634602</th>\n",
       "      <td>Hargrave</td>\n",
       "      <td>619</td>\n",
       "      <td>France</td>\n",
       "      <td>Female</td>\n",
       "      <td>42</td>\n",
       "      <td>2</td>\n",
       "      <td>0.00</td>\n",
       "      <td>1</td>\n",
       "      <td>1</td>\n",
       "      <td>1</td>\n",
       "      <td>101348.88</td>\n",
       "      <td>1</td>\n",
       "    </tr>\n",
       "    <tr>\n",
       "      <th>15647311</th>\n",
       "      <td>Hill</td>\n",
       "      <td>608</td>\n",
       "      <td>Spain</td>\n",
       "      <td>Female</td>\n",
       "      <td>41</td>\n",
       "      <td>1</td>\n",
       "      <td>83807.86</td>\n",
       "      <td>1</td>\n",
       "      <td>0</td>\n",
       "      <td>1</td>\n",
       "      <td>112542.58</td>\n",
       "      <td>0</td>\n",
       "    </tr>\n",
       "    <tr>\n",
       "      <th>15619304</th>\n",
       "      <td>Onio</td>\n",
       "      <td>502</td>\n",
       "      <td>France</td>\n",
       "      <td>Female</td>\n",
       "      <td>42</td>\n",
       "      <td>8</td>\n",
       "      <td>159660.80</td>\n",
       "      <td>3</td>\n",
       "      <td>1</td>\n",
       "      <td>0</td>\n",
       "      <td>113931.57</td>\n",
       "      <td>1</td>\n",
       "    </tr>\n",
       "    <tr>\n",
       "      <th>15701354</th>\n",
       "      <td>Boni</td>\n",
       "      <td>699</td>\n",
       "      <td>France</td>\n",
       "      <td>Female</td>\n",
       "      <td>39</td>\n",
       "      <td>1</td>\n",
       "      <td>0.00</td>\n",
       "      <td>2</td>\n",
       "      <td>0</td>\n",
       "      <td>0</td>\n",
       "      <td>93826.63</td>\n",
       "      <td>0</td>\n",
       "    </tr>\n",
       "    <tr>\n",
       "      <th>15737888</th>\n",
       "      <td>Mitchell</td>\n",
       "      <td>850</td>\n",
       "      <td>Spain</td>\n",
       "      <td>Female</td>\n",
       "      <td>43</td>\n",
       "      <td>2</td>\n",
       "      <td>125510.82</td>\n",
       "      <td>1</td>\n",
       "      <td>1</td>\n",
       "      <td>1</td>\n",
       "      <td>79084.10</td>\n",
       "      <td>0</td>\n",
       "    </tr>\n",
       "  </tbody>\n",
       "</table>\n",
       "</div>"
      ],
      "text/plain": [
       "             Surname  CreditScore Geography  Gender  Age  Tenure    Balance  \\\n",
       "CustomerId                                                                    \n",
       "15634602    Hargrave          619    France  Female   42       2       0.00   \n",
       "15647311        Hill          608     Spain  Female   41       1   83807.86   \n",
       "15619304        Onio          502    France  Female   42       8  159660.80   \n",
       "15701354        Boni          699    France  Female   39       1       0.00   \n",
       "15737888    Mitchell          850     Spain  Female   43       2  125510.82   \n",
       "\n",
       "            NumOfProducts  HasCrCard  IsActiveMember  EstimatedSalary  Exited  \n",
       "CustomerId                                                                     \n",
       "15634602                1          1               1        101348.88       1  \n",
       "15647311                1          0               1        112542.58       0  \n",
       "15619304                3          1               0        113931.57       1  \n",
       "15701354                2          0               0         93826.63       0  \n",
       "15737888                1          1               1         79084.10       0  "
      ]
     },
     "execution_count": 8,
     "metadata": {},
     "output_type": "execute_result"
    }
   ],
   "source": [
    "Customer_Churn_df.head()"
   ]
  },
  {
   "cell_type": "code",
   "execution_count": 9,
   "id": "57b15b55-ca35-4452-9da7-ceaa8afa59c3",
   "metadata": {},
   "outputs": [
    {
     "name": "stdout",
     "output_type": "stream",
     "text": [
      "<class 'pandas.core.frame.DataFrame'>\n",
      "Int64Index: 10000 entries, 15634602 to 15628319\n",
      "Data columns (total 12 columns):\n",
      " #   Column           Non-Null Count  Dtype  \n",
      "---  ------           --------------  -----  \n",
      " 0   Surname          10000 non-null  object \n",
      " 1   CreditScore      10000 non-null  int64  \n",
      " 2   Geography        10000 non-null  object \n",
      " 3   Gender           10000 non-null  object \n",
      " 4   Age              10000 non-null  int64  \n",
      " 5   Tenure           10000 non-null  int64  \n",
      " 6   Balance          10000 non-null  float64\n",
      " 7   NumOfProducts    10000 non-null  int64  \n",
      " 8   HasCrCard        10000 non-null  int64  \n",
      " 9   IsActiveMember   10000 non-null  int64  \n",
      " 10  EstimatedSalary  10000 non-null  float64\n",
      " 11  Exited           10000 non-null  int64  \n",
      "dtypes: float64(2), int64(7), object(3)\n",
      "memory usage: 1015.6+ KB\n"
     ]
    }
   ],
   "source": [
    "Customer_Churn_df.info()"
   ]
  },
  {
   "cell_type": "code",
   "execution_count": 10,
   "id": "839c2f76-146d-448b-97bd-20bd157f2867",
   "metadata": {},
   "outputs": [
    {
     "name": "stdout",
     "output_type": "stream",
     "text": [
      "Dataset Length:  10000\n",
      "Unique values for  Surname   2932\n",
      "Unique values for  CreditScore   460\n",
      "Unique values for  Geography   3\n",
      "Unique values for  Gender   2\n",
      "Unique values for  Age   70\n",
      "Unique values for  Tenure   11\n",
      "Unique values for  Balance   6382\n",
      "Unique values for  NumOfProducts   4\n",
      "Unique values for  HasCrCard   2\n",
      "Unique values for  IsActiveMember   2\n",
      "Unique values for  EstimatedSalary   9999\n",
      "Unique values for  Exited   2\n"
     ]
    }
   ],
   "source": [
    "print(\"Dataset Length: \", len(Customer_Churn_df))\n",
    "for col in Customer_Churn_df.columns:\n",
    "    print(\"Unique values for \", col, \" \", len(set(Customer_Churn_df[col])))"
   ]
  },
  {
   "cell_type": "code",
   "execution_count": 11,
   "id": "c624f24f-7581-4099-b967-cce00ae2b74e",
   "metadata": {},
   "outputs": [],
   "source": [
    "Cat = [col for col in Customer_Churn_df.columns if Customer_Churn_df.columns.dtype == object and len(set(Customer_Churn_df[col]))<5]"
   ]
  },
  {
   "cell_type": "code",
   "execution_count": 12,
   "id": "2a78b924-965f-4fdd-82eb-9a1d0ce442df",
   "metadata": {},
   "outputs": [
    {
     "data": {
      "text/plain": [
       "['Geography',\n",
       " 'Gender',\n",
       " 'NumOfProducts',\n",
       " 'HasCrCard',\n",
       " 'IsActiveMember',\n",
       " 'Exited']"
      ]
     },
     "execution_count": 12,
     "metadata": {},
     "output_type": "execute_result"
    }
   ],
   "source": [
    "Cat"
   ]
  },
  {
   "cell_type": "code",
   "execution_count": 13,
   "id": "be7c1b89-3d85-4b5a-9a13-92942dc76db6",
   "metadata": {},
   "outputs": [
    {
     "data": {
      "text/plain": [
       "France     0.5014\n",
       "Germany    0.2509\n",
       "Spain      0.2477\n",
       "Name: Geography, dtype: float64"
      ]
     },
     "execution_count": 13,
     "metadata": {},
     "output_type": "execute_result"
    }
   ],
   "source": [
    "Customer_Churn_df.Geography.value_counts(normalize=True)"
   ]
  },
  {
   "cell_type": "markdown",
   "id": "eaa83135-48dc-4e39-809a-28481c5b8041",
   "metadata": {},
   "source": [
    "- Which Country has highest customer churn"
   ]
  },
  {
   "cell_type": "code",
   "execution_count": 14,
   "id": "b53c095d-ca12-4a59-a8e7-925775dd7e5c",
   "metadata": {},
   "outputs": [
    {
     "data": {
      "application/javascript": [
       "\n",
       "        if (window._pyforest_update_imports_cell) { window._pyforest_update_imports_cell('import pandas as pd\\nimport seaborn as sns'); }\n",
       "    "
      ],
      "text/plain": [
       "<IPython.core.display.Javascript object>"
      ]
     },
     "metadata": {},
     "output_type": "display_data"
    },
    {
     "data": {
      "text/plain": [
       "<AxesSubplot:xlabel='Geography', ylabel='Exited'>"
      ]
     },
     "execution_count": 14,
     "metadata": {},
     "output_type": "execute_result"
    },
    {
     "data": {
      "image/png": "[encoded data removed]",
      "text/plain": [
       "<Figure size 432x288 with 1 Axes>"
      ]
     },
     "metadata": {
      "needs_background": "light"
     },
     "output_type": "display_data"
    }
   ],
   "source": [
    "sns.barplot(data = Customer_Churn_df, x = 'Geography', y = 'Exited')"
   ]
  },
  {
   "cell_type": "code",
   "execution_count": 15,
   "id": "d20e72b1-3577-4097-869e-e4305b7f6d00",
   "metadata": {},
   "outputs": [
    {
     "data": {
      "text/html": [
       "<div>\n",
       "<style scoped>\n",
       "    .dataframe tbody tr th:only-of-type {\n",
       "        vertical-align: middle;\n",
       "    }\n",
       "\n",
       "    .dataframe tbody tr th {\n",
       "        vertical-align: top;\n",
       "    }\n",
       "\n",
       "    .dataframe thead th {\n",
       "        text-align: right;\n",
       "    }\n",
       "</style>\n",
       "<table border=\"1\" class=\"dataframe\">\n",
       "  <thead>\n",
       "    <tr style=\"text-align: right;\">\n",
       "      <th></th>\n",
       "      <th>Surname</th>\n",
       "      <th>CreditScore</th>\n",
       "      <th>Geography</th>\n",
       "      <th>Gender</th>\n",
       "      <th>Age</th>\n",
       "      <th>Tenure</th>\n",
       "      <th>Balance</th>\n",
       "      <th>NumOfProducts</th>\n",
       "      <th>HasCrCard</th>\n",
       "      <th>IsActiveMember</th>\n",
       "      <th>EstimatedSalary</th>\n",
       "      <th>Exited</th>\n",
       "    </tr>\n",
       "    <tr>\n",
       "      <th>CustomerId</th>\n",
       "      <th></th>\n",
       "      <th></th>\n",
       "      <th></th>\n",
       "      <th></th>\n",
       "      <th></th>\n",
       "      <th></th>\n",
       "      <th></th>\n",
       "      <th></th>\n",
       "      <th></th>\n",
       "      <th></th>\n",
       "      <th></th>\n",
       "      <th></th>\n",
       "    </tr>\n",
       "  </thead>\n",
       "  <tbody>\n",
       "    <tr>\n",
       "      <th>15634602</th>\n",
       "      <td>Hargrave</td>\n",
       "      <td>619</td>\n",
       "      <td>France</td>\n",
       "      <td>Female</td>\n",
       "      <td>42</td>\n",
       "      <td>2</td>\n",
       "      <td>0.00</td>\n",
       "      <td>1</td>\n",
       "      <td>1</td>\n",
       "      <td>1</td>\n",
       "      <td>101348.88</td>\n",
       "      <td>1</td>\n",
       "    </tr>\n",
       "    <tr>\n",
       "      <th>15647311</th>\n",
       "      <td>Hill</td>\n",
       "      <td>608</td>\n",
       "      <td>Spain</td>\n",
       "      <td>Female</td>\n",
       "      <td>41</td>\n",
       "      <td>1</td>\n",
       "      <td>83807.86</td>\n",
       "      <td>1</td>\n",
       "      <td>0</td>\n",
       "      <td>1</td>\n",
       "      <td>112542.58</td>\n",
       "      <td>0</td>\n",
       "    </tr>\n",
       "    <tr>\n",
       "      <th>15619304</th>\n",
       "      <td>Onio</td>\n",
       "      <td>502</td>\n",
       "      <td>France</td>\n",
       "      <td>Female</td>\n",
       "      <td>42</td>\n",
       "      <td>8</td>\n",
       "      <td>159660.80</td>\n",
       "      <td>3</td>\n",
       "      <td>1</td>\n",
       "      <td>0</td>\n",
       "      <td>113931.57</td>\n",
       "      <td>1</td>\n",
       "    </tr>\n",
       "    <tr>\n",
       "      <th>15701354</th>\n",
       "      <td>Boni</td>\n",
       "      <td>699</td>\n",
       "      <td>France</td>\n",
       "      <td>Female</td>\n",
       "      <td>39</td>\n",
       "      <td>1</td>\n",
       "      <td>0.00</td>\n",
       "      <td>2</td>\n",
       "      <td>0</td>\n",
       "      <td>0</td>\n",
       "      <td>93826.63</td>\n",
       "      <td>0</td>\n",
       "    </tr>\n",
       "    <tr>\n",
       "      <th>15737888</th>\n",
       "      <td>Mitchell</td>\n",
       "      <td>850</td>\n",
       "      <td>Spain</td>\n",
       "      <td>Female</td>\n",
       "      <td>43</td>\n",
       "      <td>2</td>\n",
       "      <td>125510.82</td>\n",
       "      <td>1</td>\n",
       "      <td>1</td>\n",
       "      <td>1</td>\n",
       "      <td>79084.10</td>\n",
       "      <td>0</td>\n",
       "    </tr>\n",
       "  </tbody>\n",
       "</table>\n",
       "</div>"
      ],
      "text/plain": [
       "             Surname  CreditScore Geography  Gender  Age  Tenure    Balance  \\\n",
       "CustomerId                                                                    \n",
       "15634602    Hargrave          619    France  Female   42       2       0.00   \n",
       "15647311        Hill          608     Spain  Female   41       1   83807.86   \n",
       "15619304        Onio          502    France  Female   42       8  159660.80   \n",
       "15701354        Boni          699    France  Female   39       1       0.00   \n",
       "15737888    Mitchell          850     Spain  Female   43       2  125510.82   \n",
       "\n",
       "            NumOfProducts  HasCrCard  IsActiveMember  EstimatedSalary  Exited  \n",
       "CustomerId                                                                     \n",
       "15634602                1          1               1        101348.88       1  \n",
       "15647311                1          0               1        112542.58       0  \n",
       "15619304                3          1               0        113931.57       1  \n",
       "15701354                2          0               0         93826.63       0  \n",
       "15737888                1          1               1         79084.10       0  "
      ]
     },
     "execution_count": 15,
     "metadata": {},
     "output_type": "execute_result"
    }
   ],
   "source": [
    "Customer_Churn_df.head()"
   ]
  },
  {
   "cell_type": "code",
   "execution_count": 22,
   "id": "5bbc63c7-ad02-4d46-b198-4f56874717fc",
   "metadata": {
    "collapsed": true,
    "jupyter": {
     "outputs_hidden": true
    },
    "tags": []
   },
   "outputs": [
    {
     "data": {
      "application/javascript": [
       "\n",
       "        if (window._pyforest_update_imports_cell) { window._pyforest_update_imports_cell('import pandas as pd\\nimport seaborn as sns\\nimport matplotlib.pyplot as plt'); }\n",
       "    "
      ],
      "text/plain": [
       "<IPython.core.display.Javascript object>"
      ]
     },
     "metadata": {},
     "output_type": "display_data"
    },
    {
     "data": {
      "text/plain": [
       "['FacetGrid',\n",
       " 'JointGrid',\n",
       " 'PairGrid',\n",
       " '__builtins__',\n",
       " '__cached__',\n",
       " '__doc__',\n",
       " '__file__',\n",
       " '__loader__',\n",
       " '__name__',\n",
       " '__package__',\n",
       " '__path__',\n",
       " '__spec__',\n",
       " '__version__',\n",
       " '_core',\n",
       " '_decorators',\n",
       " '_docstrings',\n",
       " '_orig_rc_params',\n",
       " '_statistics',\n",
       " 'algorithms',\n",
       " 'axes_style',\n",
       " 'axisgrid',\n",
       " 'barplot',\n",
       " 'blend_palette',\n",
       " 'boxenplot',\n",
       " 'boxplot',\n",
       " 'categorical',\n",
       " 'catplot',\n",
       " 'choose_colorbrewer_palette',\n",
       " 'choose_cubehelix_palette',\n",
       " 'choose_dark_palette',\n",
       " 'choose_diverging_palette',\n",
       " 'choose_light_palette',\n",
       " 'clustermap',\n",
       " 'cm',\n",
       " 'color_palette',\n",
       " 'colors',\n",
       " 'countplot',\n",
       " 'crayon_palette',\n",
       " 'crayons',\n",
       " 'cubehelix_palette',\n",
       " 'dark_palette',\n",
       " 'desaturate',\n",
       " 'despine',\n",
       " 'displot',\n",
       " 'distplot',\n",
       " 'distributions',\n",
       " 'diverging_palette',\n",
       " 'dogplot',\n",
       " 'ecdfplot',\n",
       " 'external',\n",
       " 'factorplot',\n",
       " 'get_data_home',\n",
       " 'get_dataset_names',\n",
       " 'heatmap',\n",
       " 'histplot',\n",
       " 'hls_palette',\n",
       " 'husl_palette',\n",
       " 'jointplot',\n",
       " 'kdeplot',\n",
       " 'light_palette',\n",
       " 'lineplot',\n",
       " 'lmplot',\n",
       " 'load_dataset',\n",
       " 'matrix',\n",
       " 'miscplot',\n",
       " 'mpl',\n",
       " 'mpl_palette',\n",
       " 'pairplot',\n",
       " 'palettes',\n",
       " 'palplot',\n",
       " 'plotting_context',\n",
       " 'pointplot',\n",
       " 'rcmod',\n",
       " 'regplot',\n",
       " 'regression',\n",
       " 'relational',\n",
       " 'relplot',\n",
       " 'reset_defaults',\n",
       " 'reset_orig',\n",
       " 'residplot',\n",
       " 'rugplot',\n",
       " 'saturate',\n",
       " 'scatterplot',\n",
       " 'set',\n",
       " 'set_color_codes',\n",
       " 'set_context',\n",
       " 'set_hls_values',\n",
       " 'set_palette',\n",
       " 'set_style',\n",
       " 'set_theme',\n",
       " 'stripplot',\n",
       " 'swarmplot',\n",
       " 'utils',\n",
       " 'violinplot',\n",
       " 'widgets',\n",
       " 'xkcd_palette',\n",
       " 'xkcd_rgb']"
      ]
     },
     "execution_count": 22,
     "metadata": {},
     "output_type": "execute_result"
    }
   ],
   "source": [
    "dir(sns)"
   ]
  },
  {
   "cell_type": "code",
   "execution_count": 16,
   "id": "3a6c2a81-5148-42c9-84a7-8c1bfedc6d6d",
   "metadata": {},
   "outputs": [
    {
     "data": {
      "text/plain": [
       "Male      5457\n",
       "Female    4543\n",
       "Name: Gender, dtype: int64"
      ]
     },
     "execution_count": 16,
     "metadata": {},
     "output_type": "execute_result"
    }
   ],
   "source": [
    "Customer_Churn_df.Gender.value_counts()"
   ]
  },
  {
   "cell_type": "code",
   "execution_count": 18,
   "id": "d83ff060-8efa-4a8b-ad00-9a17f2bda441",
   "metadata": {},
   "outputs": [
    {
     "data": {
      "text/plain": [
       "0"
      ]
     },
     "execution_count": 18,
     "metadata": {},
     "output_type": "execute_result"
    }
   ],
   "source": [
    "Customer_Churn_df.Age.isnull().sum()"
   ]
  },
  {
   "cell_type": "code",
   "execution_count": 19,
   "id": "bbfb243d-31a1-4ec2-9e1f-7e3a37b27df1",
   "metadata": {},
   "outputs": [
    {
     "name": "stdout",
     "output_type": "stream",
     "text": [
      "Surname  :  0\n",
      "CreditScore  :  0\n",
      "Geography  :  0\n",
      "Gender  :  0\n",
      "Age  :  0\n",
      "Tenure  :  0\n",
      "Balance  :  0\n",
      "NumOfProducts  :  0\n",
      "HasCrCard  :  0\n",
      "IsActiveMember  :  0\n",
      "EstimatedSalary  :  0\n",
      "Exited  :  0\n"
     ]
    }
   ],
   "source": [
    "for col in Customer_Churn_df.columns:\n",
    "    print(col, \" : \", Customer_Churn_df[col].isnull().sum())"
   ]
  },
  {
   "cell_type": "code",
   "execution_count": 20,
   "id": "8238cbde-6fd7-4312-80ee-a1da738e1a56",
   "metadata": {},
   "outputs": [
    {
     "data": {
      "text/plain": [
       "France     5014\n",
       "Germany    2509\n",
       "Spain      2477\n",
       "Name: Geography, dtype: int64"
      ]
     },
     "execution_count": 20,
     "metadata": {},
     "output_type": "execute_result"
    }
   ],
   "source": [
    "Customer_Churn_df.Geography.value_counts()"
   ]
  },
  {
   "cell_type": "code",
   "execution_count": 21,
   "id": "8eabe7d8-9153-4024-a0fc-7b950fac1da0",
   "metadata": {},
   "outputs": [
    {
     "data": {
      "text/plain": [
       "0    0.7963\n",
       "1    0.2037\n",
       "Name: Exited, dtype: float64"
      ]
     },
     "execution_count": 21,
     "metadata": {},
     "output_type": "execute_result"
    }
   ],
   "source": [
    "Customer_Churn_df.Exited.value_counts(normalize=True)"
   ]
  },
  {
   "cell_type": "code",
   "execution_count": 22,
   "id": "7c99fe50-408f-4fea-bff4-f2856c12b199",
   "metadata": {},
   "outputs": [
    {
     "data": {
      "text/plain": [
       "Geography\n",
       "France     311.332479\n",
       "Germany    300.402861\n",
       "Spain      153.123552\n",
       "Name: Balance, dtype: float64"
      ]
     },
     "execution_count": 22,
     "metadata": {},
     "output_type": "execute_result"
    }
   ],
   "source": [
    "Customer_Churn_df.groupby('Geography').Balance.sum()/1000000"
   ]
  },
  {
   "cell_type": "code",
   "execution_count": 23,
   "id": "c1299960-ed26-47c4-a4ed-9f5736e62823",
   "metadata": {},
   "outputs": [
    {
     "data": {
      "text/plain": [
       "Surname             object\n",
       "CreditScore          int64\n",
       "Geography           object\n",
       "Gender              object\n",
       "Age                  int64\n",
       "Tenure               int64\n",
       "Balance            float64\n",
       "NumOfProducts        int64\n",
       "HasCrCard            int64\n",
       "IsActiveMember       int64\n",
       "EstimatedSalary    float64\n",
       "Exited               int64\n",
       "dtype: object"
      ]
     },
     "execution_count": 23,
     "metadata": {},
     "output_type": "execute_result"
    }
   ],
   "source": [
    "Customer_Churn_df.dtypes"
   ]
  },
  {
   "cell_type": "code",
   "execution_count": 24,
   "id": "b788fe3f-22bf-4467-acc6-f728ae83a912",
   "metadata": {
    "collapsed": true,
    "jupyter": {
     "outputs_hidden": true
    },
    "tags": []
   },
   "outputs": [
    {
     "data": {
      "text/plain": [
       "array([619, 608, 502, 699, 850, 645, 822, 376, 501, 684, 528, 497, 476,\n",
       "       549, 635, 616, 653, 587, 726, 732, 636, 510, 669, 846, 577, 756,\n",
       "       571, 574, 411, 591, 533, 553, 520, 722, 475, 490, 804, 582, 472,\n",
       "       465, 556, 834, 660, 776, 829, 637, 550, 698, 585, 788, 655, 601,\n",
       "       656, 725, 511, 614, 742, 687, 555, 603, 751, 581, 735, 661, 675,\n",
       "       738, 813, 657, 604, 519, 664, 678, 757, 416, 665, 777, 543, 506,\n",
       "       493, 652, 750, 729, 646, 647, 808, 524, 769, 730, 515, 773, 814,\n",
       "       710, 413, 623, 670, 622, 785, 605, 479, 685, 538, 562, 721, 628,\n",
       "       668, 828, 674, 625, 432, 770, 758, 795, 686, 789, 589, 461, 584,\n",
       "       579, 663, 682, 793, 691, 485, 650, 754, 535, 716, 539, 706, 586,\n",
       "       631, 717, 800, 683, 704, 615, 667, 484, 480, 578, 512, 606, 597,\n",
       "       778, 514, 525, 715, 580, 807, 521, 759, 516, 711, 618, 643, 671,\n",
       "       689, 620, 676, 572, 695, 592, 567, 694, 547, 594, 673, 610, 767,\n",
       "       763, 712, 703, 662, 659, 523, 772, 545, 634, 739, 771, 681, 544,\n",
       "       696, 766, 727, 693, 557, 531, 498, 651, 791, 733, 811, 707, 714,\n",
       "       782, 775, 799, 602, 744, 588, 747, 583, 627, 731, 629, 438, 642,\n",
       "       806, 474, 559, 429, 680, 749, 734, 644, 626, 649, 805, 718, 840,\n",
       "       630, 654, 762, 568, 613, 522, 737, 648, 443, 640, 540, 460, 593,\n",
       "       801, 611, 802, 745, 483, 690, 492, 709, 705, 560, 752, 701, 537,\n",
       "       487, 596, 702, 486, 724, 548, 464, 790, 534, 748, 494, 590, 468,\n",
       "       509, 818, 816, 536, 753, 774, 621, 569, 658, 798, 641, 542, 692,\n",
       "       639, 765, 570, 638, 599, 632, 779, 527, 564, 833, 504, 842, 508,\n",
       "       417, 598, 741, 607, 761, 848, 546, 439, 755, 760, 526, 713, 700,\n",
       "       666, 566, 495, 688, 612, 477, 427, 839, 819, 720, 459, 503, 624,\n",
       "       529, 563, 482, 796, 445, 746, 786, 554, 672, 787, 499, 844, 450,\n",
       "       815, 838, 803, 736, 633, 600, 679, 517, 792, 743, 488, 421, 841,\n",
       "       708, 507, 505, 456, 435, 561, 518, 565, 728, 784, 552, 609, 764,\n",
       "       697, 723, 551, 444, 719, 496, 541, 830, 812, 677, 420, 595, 617,\n",
       "       809, 500, 826, 434, 513, 478, 797, 363, 399, 463, 780, 452, 575,\n",
       "       837, 794, 824, 428, 823, 781, 849, 489, 431, 457, 768, 831, 359,\n",
       "       820, 573, 576, 558, 817, 449, 440, 415, 821, 530, 350, 446, 425,\n",
       "       740, 481, 783, 358, 845, 451, 458, 469, 423, 404, 836, 473, 835,\n",
       "       466, 491, 351, 827, 843, 365, 532, 414, 453, 471, 401, 810, 832,\n",
       "       470, 447, 422, 825, 430, 436, 426, 408, 847, 418, 437, 410, 454,\n",
       "       407, 455, 462, 386, 405, 383, 395, 467, 433, 442, 424, 448, 441,\n",
       "       367, 412, 382, 373, 419])"
      ]
     },
     "execution_count": 24,
     "metadata": {},
     "output_type": "execute_result"
    }
   ],
   "source": [
    "Customer_Churn_df.CreditScore.unique()"
   ]
  },
  {
   "cell_type": "code",
   "execution_count": 25,
   "id": "f988910c-b30d-468c-990c-91fff0a50865",
   "metadata": {},
   "outputs": [
    {
     "data": {
      "text/plain": [
       "dtype('O')"
      ]
     },
     "execution_count": 25,
     "metadata": {},
     "output_type": "execute_result"
    }
   ],
   "source": [
    "Customer_Churn_df.columns.dtype"
   ]
  },
  {
   "cell_type": "code",
   "execution_count": 26,
   "id": "13da694c-6393-4fd8-a891-b6d0086ebc0f",
   "metadata": {},
   "outputs": [
    {
     "data": {
      "text/plain": [
       "<AxesSubplot:title={'center':'Balance'}, xlabel='Geography'>"
      ]
     },
     "execution_count": 26,
     "metadata": {},
     "output_type": "execute_result"
    },
    {
     "data": {
      "image/png": "[encoded data removed]",
      "text/plain": [
       "<Figure size 432x288 with 1 Axes>"
      ]
     },
     "metadata": {
      "needs_background": "light"
     },
     "output_type": "display_data"
    }
   ],
   "source": [
    "Customer_Churn_df.boxplot(column='Balance', by='Geography', grid=False, rot=45, fontsize=15)"
   ]
  },
  {
   "cell_type": "code",
   "execution_count": 27,
   "id": "f794f955-1ca1-459f-a68b-ce27a4b21363",
   "metadata": {},
   "outputs": [
    {
     "name": "stdout",
     "output_type": "stream",
     "text": [
      "<class 'pandas.core.frame.DataFrame'>\n",
      "Int64Index: 10000 entries, 15634602 to 15628319\n",
      "Data columns (total 12 columns):\n",
      " #   Column           Non-Null Count  Dtype  \n",
      "---  ------           --------------  -----  \n",
      " 0   Surname          10000 non-null  object \n",
      " 1   CreditScore      10000 non-null  int64  \n",
      " 2   Geography        10000 non-null  object \n",
      " 3   Gender           10000 non-null  object \n",
      " 4   Age              10000 non-null  int64  \n",
      " 5   Tenure           10000 non-null  int64  \n",
      " 6   Balance          10000 non-null  float64\n",
      " 7   NumOfProducts    10000 non-null  int64  \n",
      " 8   HasCrCard        10000 non-null  int64  \n",
      " 9   IsActiveMember   10000 non-null  int64  \n",
      " 10  EstimatedSalary  10000 non-null  float64\n",
      " 11  Exited           10000 non-null  int64  \n",
      "dtypes: float64(2), int64(7), object(3)\n",
      "memory usage: 1.2+ MB\n"
     ]
    }
   ],
   "source": [
    "Customer_Churn_df.info()"
   ]
  },
  {
   "cell_type": "code",
   "execution_count": 28,
   "id": "fcab1900-5887-4801-b8a2-519977b8ed76",
   "metadata": {},
   "outputs": [
    {
     "data": {
      "application/javascript": [
       "\n",
       "        if (window._pyforest_update_imports_cell) { window._pyforest_update_imports_cell('import pandas as pd\\nimport seaborn as sns'); }\n",
       "    "
      ],
      "text/plain": [
       "<IPython.core.display.Javascript object>"
      ]
     },
     "metadata": {},
     "output_type": "display_data"
    },
    {
     "data": {
      "application/javascript": [
       "\n",
       "        if (window._pyforest_update_imports_cell) { window._pyforest_update_imports_cell('import pandas as pd\\nimport seaborn as sns'); }\n",
       "    "
      ],
      "text/plain": [
       "<IPython.core.display.Javascript object>"
      ]
     },
     "metadata": {},
     "output_type": "display_data"
    }
   ],
   "source": [
    "Customer_Churn_df['Geography'] = pd.Categorical(Customer_Churn_df['Geography'])\n",
    "Customer_Churn_df['Gender'] = pd.Categorical(Customer_Churn_df['Gender'])"
   ]
  },
  {
   "cell_type": "code",
   "execution_count": 29,
   "id": "a527973e-1589-48f0-841a-fbf5b78fe330",
   "metadata": {},
   "outputs": [
    {
     "name": "stdout",
     "output_type": "stream",
     "text": [
      "<class 'pandas.core.frame.DataFrame'>\n",
      "Int64Index: 10000 entries, 15634602 to 15628319\n",
      "Data columns (total 12 columns):\n",
      " #   Column           Non-Null Count  Dtype   \n",
      "---  ------           --------------  -----   \n",
      " 0   Surname          10000 non-null  object  \n",
      " 1   CreditScore      10000 non-null  int64   \n",
      " 2   Geography        10000 non-null  category\n",
      " 3   Gender           10000 non-null  category\n",
      " 4   Age              10000 non-null  int64   \n",
      " 5   Tenure           10000 non-null  int64   \n",
      " 6   Balance          10000 non-null  float64 \n",
      " 7   NumOfProducts    10000 non-null  int64   \n",
      " 8   HasCrCard        10000 non-null  int64   \n",
      " 9   IsActiveMember   10000 non-null  int64   \n",
      " 10  EstimatedSalary  10000 non-null  float64 \n",
      " 11  Exited           10000 non-null  int64   \n",
      "dtypes: category(2), float64(2), int64(7), object(1)\n",
      "memory usage: 1.1+ MB\n"
     ]
    }
   ],
   "source": [
    "Customer_Churn_df.info()"
   ]
  },
  {
   "cell_type": "code",
   "execution_count": 30,
   "id": "0944583c-bf12-443b-b8d9-24bf41b316de",
   "metadata": {},
   "outputs": [],
   "source": [
    "Customer_Churn_df.drop(axis=1, columns='Surname', inplace=True)"
   ]
  },
  {
   "cell_type": "code",
   "execution_count": 31,
   "id": "bb6002e3-a93c-471b-bb8c-d59d73e5cb4d",
   "metadata": {},
   "outputs": [
    {
     "data": {
      "text/html": [
       "<div>\n",
       "<style scoped>\n",
       "    .dataframe tbody tr th:only-of-type {\n",
       "        vertical-align: middle;\n",
       "    }\n",
       "\n",
       "    .dataframe tbody tr th {\n",
       "        vertical-align: top;\n",
       "    }\n",
       "\n",
       "    .dataframe thead th {\n",
       "        text-align: right;\n",
       "    }\n",
       "</style>\n",
       "<table border=\"1\" class=\"dataframe\">\n",
       "  <thead>\n",
       "    <tr style=\"text-align: right;\">\n",
       "      <th></th>\n",
       "      <th>CreditScore</th>\n",
       "      <th>Geography</th>\n",
       "      <th>Gender</th>\n",
       "      <th>Age</th>\n",
       "      <th>Tenure</th>\n",
       "      <th>Balance</th>\n",
       "      <th>NumOfProducts</th>\n",
       "      <th>HasCrCard</th>\n",
       "      <th>IsActiveMember</th>\n",
       "      <th>EstimatedSalary</th>\n",
       "      <th>Exited</th>\n",
       "    </tr>\n",
       "    <tr>\n",
       "      <th>CustomerId</th>\n",
       "      <th></th>\n",
       "      <th></th>\n",
       "      <th></th>\n",
       "      <th></th>\n",
       "      <th></th>\n",
       "      <th></th>\n",
       "      <th></th>\n",
       "      <th></th>\n",
       "      <th></th>\n",
       "      <th></th>\n",
       "      <th></th>\n",
       "    </tr>\n",
       "  </thead>\n",
       "  <tbody>\n",
       "    <tr>\n",
       "      <th>15634602</th>\n",
       "      <td>619</td>\n",
       "      <td>France</td>\n",
       "      <td>Female</td>\n",
       "      <td>42</td>\n",
       "      <td>2</td>\n",
       "      <td>0.00</td>\n",
       "      <td>1</td>\n",
       "      <td>1</td>\n",
       "      <td>1</td>\n",
       "      <td>101348.88</td>\n",
       "      <td>1</td>\n",
       "    </tr>\n",
       "    <tr>\n",
       "      <th>15647311</th>\n",
       "      <td>608</td>\n",
       "      <td>Spain</td>\n",
       "      <td>Female</td>\n",
       "      <td>41</td>\n",
       "      <td>1</td>\n",
       "      <td>83807.86</td>\n",
       "      <td>1</td>\n",
       "      <td>0</td>\n",
       "      <td>1</td>\n",
       "      <td>112542.58</td>\n",
       "      <td>0</td>\n",
       "    </tr>\n",
       "    <tr>\n",
       "      <th>15619304</th>\n",
       "      <td>502</td>\n",
       "      <td>France</td>\n",
       "      <td>Female</td>\n",
       "      <td>42</td>\n",
       "      <td>8</td>\n",
       "      <td>159660.80</td>\n",
       "      <td>3</td>\n",
       "      <td>1</td>\n",
       "      <td>0</td>\n",
       "      <td>113931.57</td>\n",
       "      <td>1</td>\n",
       "    </tr>\n",
       "    <tr>\n",
       "      <th>15701354</th>\n",
       "      <td>699</td>\n",
       "      <td>France</td>\n",
       "      <td>Female</td>\n",
       "      <td>39</td>\n",
       "      <td>1</td>\n",
       "      <td>0.00</td>\n",
       "      <td>2</td>\n",
       "      <td>0</td>\n",
       "      <td>0</td>\n",
       "      <td>93826.63</td>\n",
       "      <td>0</td>\n",
       "    </tr>\n",
       "    <tr>\n",
       "      <th>15737888</th>\n",
       "      <td>850</td>\n",
       "      <td>Spain</td>\n",
       "      <td>Female</td>\n",
       "      <td>43</td>\n",
       "      <td>2</td>\n",
       "      <td>125510.82</td>\n",
       "      <td>1</td>\n",
       "      <td>1</td>\n",
       "      <td>1</td>\n",
       "      <td>79084.10</td>\n",
       "      <td>0</td>\n",
       "    </tr>\n",
       "  </tbody>\n",
       "</table>\n",
       "</div>"
      ],
      "text/plain": [
       "            CreditScore Geography  Gender  Age  Tenure    Balance  \\\n",
       "CustomerId                                                          \n",
       "15634602            619    France  Female   42       2       0.00   \n",
       "15647311            608     Spain  Female   41       1   83807.86   \n",
       "15619304            502    France  Female   42       8  159660.80   \n",
       "15701354            699    France  Female   39       1       0.00   \n",
       "15737888            850     Spain  Female   43       2  125510.82   \n",
       "\n",
       "            NumOfProducts  HasCrCard  IsActiveMember  EstimatedSalary  Exited  \n",
       "CustomerId                                                                     \n",
       "15634602                1          1               1        101348.88       1  \n",
       "15647311                1          0               1        112542.58       0  \n",
       "15619304                3          1               0        113931.57       1  \n",
       "15701354                2          0               0         93826.63       0  \n",
       "15737888                1          1               1         79084.10       0  "
      ]
     },
     "execution_count": 31,
     "metadata": {},
     "output_type": "execute_result"
    }
   ],
   "source": [
    "Customer_Churn_df.head()"
   ]
  },
  {
   "cell_type": "code",
   "execution_count": 34,
   "id": "908a1d9e-ea43-4982-9e86-8f9c4fedbbc1",
   "metadata": {},
   "outputs": [
    {
     "data": {
      "application/javascript": [
       "\n",
       "        if (window._pyforest_update_imports_cell) { window._pyforest_update_imports_cell('import pandas as pd\\nimport matplotlib.pyplot as plt\\nimport seaborn as sns'); }\n",
       "    "
      ],
      "text/plain": [
       "<IPython.core.display.Javascript object>"
      ]
     },
     "metadata": {},
     "output_type": "display_data"
    },
    {
     "name": "stdout",
     "output_type": "stream",
     "text": [
      "Correlation between various features\n"
     ]
    },
    {
     "data": {
      "application/javascript": [
       "\n",
       "        if (window._pyforest_update_imports_cell) { window._pyforest_update_imports_cell('import pandas as pd\\nimport matplotlib.pyplot as plt\\nimport seaborn as sns'); }\n",
       "    "
      ],
      "text/plain": [
       "<IPython.core.display.Javascript object>"
      ]
     },
     "metadata": {},
     "output_type": "display_data"
    },
    {
     "data": {
      "image/png": "[encoded data removed]",
      "text/plain": [
       "<Figure size 864x720 with 2 Axes>"
      ]
     },
     "metadata": {
      "needs_background": "light"
     },
     "output_type": "display_data"
    }
   ],
   "source": [
    "plt.figure(figsize=(12,10))\n",
    "print('Correlation between various features')\n",
    "p=sns.heatmap(Customer_Churn_df.corr(), annot=True,cmap ='Blues')\n"
   ]
  },
  {
   "cell_type": "code",
   "execution_count": 32,
   "id": "71ed4627-aa4e-49e8-825c-58593737d7ae",
   "metadata": {},
   "outputs": [],
   "source": [
    "y = Customer_Churn_df['Exited']\n",
    "X = Customer_Churn_df.drop(axis=1, columns='Exited')"
   ]
  },
  {
   "cell_type": "code",
   "execution_count": 39,
   "id": "a57f9bc4-72e0-47fd-8090-4ed024f92f82",
   "metadata": {},
   "outputs": [
    {
     "data": {
      "application/javascript": [
       "\n",
       "        if (window._pyforest_update_imports_cell) { window._pyforest_update_imports_cell('import pandas as pd\\nimport matplotlib.pyplot as plt\\nimport seaborn as sns'); }\n",
       "    "
      ],
      "text/plain": [
       "<IPython.core.display.Javascript object>"
      ]
     },
     "metadata": {},
     "output_type": "display_data"
    }
   ],
   "source": [
    "X_dum = pd.get_dummies(X, columns=['Geography', 'Gender', 'Tenure', 'NumOfProducts', 'HasCrCard', 'IsActiveMember'])"
   ]
  },
  {
   "cell_type": "code",
   "execution_count": 40,
   "id": "f03e88e6-7643-47d7-8f9a-f5c236a083aa",
   "metadata": {},
   "outputs": [
    {
     "data": {
      "text/html": [
       "<div>\n",
       "<style scoped>\n",
       "    .dataframe tbody tr th:only-of-type {\n",
       "        vertical-align: middle;\n",
       "    }\n",
       "\n",
       "    .dataframe tbody tr th {\n",
       "        vertical-align: top;\n",
       "    }\n",
       "\n",
       "    .dataframe thead th {\n",
       "        text-align: right;\n",
       "    }\n",
       "</style>\n",
       "<table border=\"1\" class=\"dataframe\">\n",
       "  <thead>\n",
       "    <tr style=\"text-align: right;\">\n",
       "      <th></th>\n",
       "      <th>CreditScore</th>\n",
       "      <th>Age</th>\n",
       "      <th>Balance</th>\n",
       "      <th>EstimatedSalary</th>\n",
       "      <th>Geography_France</th>\n",
       "      <th>Geography_Germany</th>\n",
       "      <th>Geography_Spain</th>\n",
       "      <th>Gender_Female</th>\n",
       "      <th>Gender_Male</th>\n",
       "      <th>Tenure_0</th>\n",
       "      <th>...</th>\n",
       "      <th>Tenure_9</th>\n",
       "      <th>Tenure_10</th>\n",
       "      <th>NumOfProducts_1</th>\n",
       "      <th>NumOfProducts_2</th>\n",
       "      <th>NumOfProducts_3</th>\n",
       "      <th>NumOfProducts_4</th>\n",
       "      <th>HasCrCard_0</th>\n",
       "      <th>HasCrCard_1</th>\n",
       "      <th>IsActiveMember_0</th>\n",
       "      <th>IsActiveMember_1</th>\n",
       "    </tr>\n",
       "    <tr>\n",
       "      <th>CustomerId</th>\n",
       "      <th></th>\n",
       "      <th></th>\n",
       "      <th></th>\n",
       "      <th></th>\n",
       "      <th></th>\n",
       "      <th></th>\n",
       "      <th></th>\n",
       "      <th></th>\n",
       "      <th></th>\n",
       "      <th></th>\n",
       "      <th></th>\n",
       "      <th></th>\n",
       "      <th></th>\n",
       "      <th></th>\n",
       "      <th></th>\n",
       "      <th></th>\n",
       "      <th></th>\n",
       "      <th></th>\n",
       "      <th></th>\n",
       "      <th></th>\n",
       "      <th></th>\n",
       "    </tr>\n",
       "  </thead>\n",
       "  <tbody>\n",
       "    <tr>\n",
       "      <th>15634602</th>\n",
       "      <td>619</td>\n",
       "      <td>42</td>\n",
       "      <td>0.00</td>\n",
       "      <td>101348.88</td>\n",
       "      <td>1</td>\n",
       "      <td>0</td>\n",
       "      <td>0</td>\n",
       "      <td>1</td>\n",
       "      <td>0</td>\n",
       "      <td>0</td>\n",
       "      <td>...</td>\n",
       "      <td>0</td>\n",
       "      <td>0</td>\n",
       "      <td>1</td>\n",
       "      <td>0</td>\n",
       "      <td>0</td>\n",
       "      <td>0</td>\n",
       "      <td>0</td>\n",
       "      <td>1</td>\n",
       "      <td>0</td>\n",
       "      <td>1</td>\n",
       "    </tr>\n",
       "    <tr>\n",
       "      <th>15647311</th>\n",
       "      <td>608</td>\n",
       "      <td>41</td>\n",
       "      <td>83807.86</td>\n",
       "      <td>112542.58</td>\n",
       "      <td>0</td>\n",
       "      <td>0</td>\n",
       "      <td>1</td>\n",
       "      <td>1</td>\n",
       "      <td>0</td>\n",
       "      <td>0</td>\n",
       "      <td>...</td>\n",
       "      <td>0</td>\n",
       "      <td>0</td>\n",
       "      <td>1</td>\n",
       "      <td>0</td>\n",
       "      <td>0</td>\n",
       "      <td>0</td>\n",
       "      <td>1</td>\n",
       "      <td>0</td>\n",
       "      <td>0</td>\n",
       "      <td>1</td>\n",
       "    </tr>\n",
       "    <tr>\n",
       "      <th>15619304</th>\n",
       "      <td>502</td>\n",
       "      <td>42</td>\n",
       "      <td>159660.80</td>\n",
       "      <td>113931.57</td>\n",
       "      <td>1</td>\n",
       "      <td>0</td>\n",
       "      <td>0</td>\n",
       "      <td>1</td>\n",
       "      <td>0</td>\n",
       "      <td>0</td>\n",
       "      <td>...</td>\n",
       "      <td>0</td>\n",
       "      <td>0</td>\n",
       "      <td>0</td>\n",
       "      <td>0</td>\n",
       "      <td>1</td>\n",
       "      <td>0</td>\n",
       "      <td>0</td>\n",
       "      <td>1</td>\n",
       "      <td>1</td>\n",
       "      <td>0</td>\n",
       "    </tr>\n",
       "    <tr>\n",
       "      <th>15701354</th>\n",
       "      <td>699</td>\n",
       "      <td>39</td>\n",
       "      <td>0.00</td>\n",
       "      <td>93826.63</td>\n",
       "      <td>1</td>\n",
       "      <td>0</td>\n",
       "      <td>0</td>\n",
       "      <td>1</td>\n",
       "      <td>0</td>\n",
       "      <td>0</td>\n",
       "      <td>...</td>\n",
       "      <td>0</td>\n",
       "      <td>0</td>\n",
       "      <td>0</td>\n",
       "      <td>1</td>\n",
       "      <td>0</td>\n",
       "      <td>0</td>\n",
       "      <td>1</td>\n",
       "      <td>0</td>\n",
       "      <td>1</td>\n",
       "      <td>0</td>\n",
       "    </tr>\n",
       "    <tr>\n",
       "      <th>15737888</th>\n",
       "      <td>850</td>\n",
       "      <td>43</td>\n",
       "      <td>125510.82</td>\n",
       "      <td>79084.10</td>\n",
       "      <td>0</td>\n",
       "      <td>0</td>\n",
       "      <td>1</td>\n",
       "      <td>1</td>\n",
       "      <td>0</td>\n",
       "      <td>0</td>\n",
       "      <td>...</td>\n",
       "      <td>0</td>\n",
       "      <td>0</td>\n",
       "      <td>1</td>\n",
       "      <td>0</td>\n",
       "      <td>0</td>\n",
       "      <td>0</td>\n",
       "      <td>0</td>\n",
       "      <td>1</td>\n",
       "      <td>0</td>\n",
       "      <td>1</td>\n",
       "    </tr>\n",
       "  </tbody>\n",
       "</table>\n",
       "<p>5 rows × 28 columns</p>\n",
       "</div>"
      ],
      "text/plain": [
       "            CreditScore  Age    Balance  EstimatedSalary  Geography_France  \\\n",
       "CustomerId                                                                   \n",
       "15634602            619   42       0.00        101348.88                 1   \n",
       "15647311            608   41   83807.86        112542.58                 0   \n",
       "15619304            502   42  159660.80        113931.57                 1   \n",
       "15701354            699   39       0.00         93826.63                 1   \n",
       "15737888            850   43  125510.82         79084.10                 0   \n",
       "\n",
       "            Geography_Germany  Geography_Spain  Gender_Female  Gender_Male  \\\n",
       "CustomerId                                                                   \n",
       "15634602                    0                0              1            0   \n",
       "15647311                    0                1              1            0   \n",
       "15619304                    0                0              1            0   \n",
       "15701354                    0                0              1            0   \n",
       "15737888                    0                1              1            0   \n",
       "\n",
       "            Tenure_0  ...  Tenure_9  Tenure_10  NumOfProducts_1  \\\n",
       "CustomerId            ...                                         \n",
       "15634602           0  ...         0          0                1   \n",
       "15647311           0  ...         0          0                1   \n",
       "15619304           0  ...         0          0                0   \n",
       "15701354           0  ...         0          0                0   \n",
       "15737888           0  ...         0          0                1   \n",
       "\n",
       "            NumOfProducts_2  NumOfProducts_3  NumOfProducts_4  HasCrCard_0  \\\n",
       "CustomerId                                                                   \n",
       "15634602                  0                0                0            0   \n",
       "15647311                  0                0                0            1   \n",
       "15619304                  0                1                0            0   \n",
       "15701354                  1                0                0            1   \n",
       "15737888                  0                0                0            0   \n",
       "\n",
       "            HasCrCard_1  IsActiveMember_0  IsActiveMember_1  \n",
       "CustomerId                                                   \n",
       "15634602              1                 0                 1  \n",
       "15647311              0                 0                 1  \n",
       "15619304              1                 1                 0  \n",
       "15701354              0                 1                 0  \n",
       "15737888              1                 0                 1  \n",
       "\n",
       "[5 rows x 28 columns]"
      ]
     },
     "execution_count": 40,
     "metadata": {},
     "output_type": "execute_result"
    }
   ],
   "source": [
    "X_dum.head()"
   ]
  },
  {
   "cell_type": "code",
   "execution_count": 44,
   "id": "96a4c723-cc5d-4ef7-9d5d-cb83c48509ee",
   "metadata": {},
   "outputs": [
    {
     "data": {
      "application/javascript": [
       "\n",
       "        if (window._pyforest_update_imports_cell) { window._pyforest_update_imports_cell('import pandas as pd\\nimport matplotlib.pyplot as plt\\nimport sklearn\\nimport seaborn as sns'); }\n",
       "    "
      ],
      "text/plain": [
       "<IPython.core.display.Javascript object>"
      ]
     },
     "metadata": {},
     "output_type": "display_data"
    }
   ],
   "source": [
    "scaler = sklearn.preprocessing.StandardScaler().fit(X_dum)\n",
    "X_scaled = scaler.transform(X_dum)"
   ]
  },
  {
   "cell_type": "code",
   "execution_count": 45,
   "id": "6fb83128-9ea4-4e6e-aa89-c14cdcce92f1",
   "metadata": {},
   "outputs": [],
   "source": [
    "X_train, X_test, y_train, y_test = train_test_split(X_scaled, y, test_size=0.25, random_state=22)\n"
   ]
  },
  {
   "cell_type": "code",
   "execution_count": 49,
   "id": "062fb75e-1100-47e2-a158-e66acccbe975",
   "metadata": {},
   "outputs": [
    {
     "data": {
      "application/javascript": [
       "\n",
       "        if (window._pyforest_update_imports_cell) { window._pyforest_update_imports_cell('import seaborn as sns\\nimport sklearn\\nimport pandas as pd\\nimport matplotlib.pyplot as plt\\nfrom sklearn.ensemble import GradientBoostingClassifier'); }\n",
       "    "
      ],
      "text/plain": [
       "<IPython.core.display.Javascript object>"
      ]
     },
     "metadata": {},
     "output_type": "display_data"
    },
    {
     "name": "stdout",
     "output_type": "stream",
     "text": [
      "Learning rate:  0.05\n",
      "Accuracy score (training): 0.794\n",
      "Accuracy score (validation): 0.802\n",
      "\n"
     ]
    },
    {
     "data": {
      "application/javascript": [
       "\n",
       "        if (window._pyforest_update_imports_cell) { window._pyforest_update_imports_cell('import seaborn as sns\\nimport sklearn\\nimport pandas as pd\\nimport matplotlib.pyplot as plt\\nfrom sklearn.ensemble import GradientBoostingClassifier'); }\n",
       "    "
      ],
      "text/plain": [
       "<IPython.core.display.Javascript object>"
      ]
     },
     "metadata": {},
     "output_type": "display_data"
    },
    {
     "name": "stdout",
     "output_type": "stream",
     "text": [
      "Learning rate:  0.1\n",
      "Accuracy score (training): 0.797\n",
      "Accuracy score (validation): 0.806\n",
      "\n"
     ]
    },
    {
     "data": {
      "application/javascript": [
       "\n",
       "        if (window._pyforest_update_imports_cell) { window._pyforest_update_imports_cell('import seaborn as sns\\nimport sklearn\\nimport pandas as pd\\nimport matplotlib.pyplot as plt\\nfrom sklearn.ensemble import GradientBoostingClassifier'); }\n",
       "    "
      ],
      "text/plain": [
       "<IPython.core.display.Javascript object>"
      ]
     },
     "metadata": {},
     "output_type": "display_data"
    },
    {
     "name": "stdout",
     "output_type": "stream",
     "text": [
      "Learning rate:  0.25\n",
      "Accuracy score (training): 0.825\n",
      "Accuracy score (validation): 0.834\n",
      "\n"
     ]
    },
    {
     "data": {
      "application/javascript": [
       "\n",
       "        if (window._pyforest_update_imports_cell) { window._pyforest_update_imports_cell('import seaborn as sns\\nimport sklearn\\nimport pandas as pd\\nimport matplotlib.pyplot as plt\\nfrom sklearn.ensemble import GradientBoostingClassifier'); }\n",
       "    "
      ],
      "text/plain": [
       "<IPython.core.display.Javascript object>"
      ]
     },
     "metadata": {},
     "output_type": "display_data"
    },
    {
     "name": "stdout",
     "output_type": "stream",
     "text": [
      "Learning rate:  0.5\n",
      "Accuracy score (training): 0.853\n",
      "Accuracy score (validation): 0.854\n",
      "\n"
     ]
    },
    {
     "data": {
      "application/javascript": [
       "\n",
       "        if (window._pyforest_update_imports_cell) { window._pyforest_update_imports_cell('import seaborn as sns\\nimport sklearn\\nimport pandas as pd\\nimport matplotlib.pyplot as plt\\nfrom sklearn.ensemble import GradientBoostingClassifier'); }\n",
       "    "
      ],
      "text/plain": [
       "<IPython.core.display.Javascript object>"
      ]
     },
     "metadata": {},
     "output_type": "display_data"
    },
    {
     "name": "stdout",
     "output_type": "stream",
     "text": [
      "Learning rate:  0.75\n",
      "Accuracy score (training): 0.853\n",
      "Accuracy score (validation): 0.852\n",
      "\n"
     ]
    },
    {
     "data": {
      "application/javascript": [
       "\n",
       "        if (window._pyforest_update_imports_cell) { window._pyforest_update_imports_cell('import seaborn as sns\\nimport sklearn\\nimport pandas as pd\\nimport matplotlib.pyplot as plt\\nfrom sklearn.ensemble import GradientBoostingClassifier'); }\n",
       "    "
      ],
      "text/plain": [
       "<IPython.core.display.Javascript object>"
      ]
     },
     "metadata": {},
     "output_type": "display_data"
    },
    {
     "name": "stdout",
     "output_type": "stream",
     "text": [
      "Learning rate:  1\n",
      "Accuracy score (training): 0.861\n",
      "Accuracy score (validation): 0.854\n",
      "\n"
     ]
    },
    {
     "data": {
      "application/javascript": [
       "\n",
       "        if (window._pyforest_update_imports_cell) { window._pyforest_update_imports_cell('import seaborn as sns\\nimport sklearn\\nimport pandas as pd\\nimport matplotlib.pyplot as plt\\nfrom sklearn.ensemble import GradientBoostingClassifier'); }\n",
       "    "
      ],
      "text/plain": [
       "<IPython.core.display.Javascript object>"
      ]
     },
     "metadata": {},
     "output_type": "display_data"
    },
    {
     "name": "stdout",
     "output_type": "stream",
     "text": [
      "Learning rate:  1.1\n",
      "Accuracy score (training): 0.855\n",
      "Accuracy score (validation): 0.846\n",
      "\n"
     ]
    }
   ],
   "source": [
    "learning_rates = [0.05, 0.1, 0.25, 0.5, 0.75, 1, 1.1]\n",
    "for learning_rate in learning_rates:\n",
    "    gb = GradientBoostingClassifier(n_estimators=20, learning_rate = learning_rate, max_features=2, max_depth = 2, random_state = 0)\n",
    "    gb.fit(X_train, y_train)\n",
    "    print(\"Learning rate: \", learning_rate)\n",
    "    print(\"Accuracy score (training): {0:.3f}\".format(gb.score(X_train, y_train)))\n",
    "    print(\"Accuracy score (validation): {0:.3f}\".format(gb.score(X_test, y_test)))\n",
    "    print()"
   ]
  },
  {
   "cell_type": "code",
   "execution_count": 51,
   "id": "d302c963-22a5-4ae4-a9f3-8329c877aeae",
   "metadata": {},
   "outputs": [
    {
     "data": {
      "application/javascript": [
       "\n",
       "        if (window._pyforest_update_imports_cell) { window._pyforest_update_imports_cell('import seaborn as sns\\nimport sklearn\\nimport pandas as pd\\nimport matplotlib.pyplot as plt\\nfrom sklearn.ensemble import GradientBoostingClassifier'); }\n",
       "    "
      ],
      "text/plain": [
       "<IPython.core.display.Javascript object>"
      ]
     },
     "metadata": {},
     "output_type": "display_data"
    },
    {
     "name": "stdout",
     "output_type": "stream",
     "text": [
      "Learning rate:  0.5\n",
      "Accuracy score (training): 0.850\n",
      "Accuracy score (validation): 0.848\n"
     ]
    }
   ],
   "source": [
    "gb = GradientBoostingClassifier(n_estimators=20, learning_rate=0.5, max_features=2, max_depth=2, random_state=1)\n",
    "gbModel = gb.fit(X_train, y_train)\n",
    "print(\"Learning rate: \", 0.5)\n",
    "print(\"Accuracy score (training): {0:.3f}\".format(gbModel.score(X_train, y_train)))\n",
    "print(\"Accuracy score (validation): {0:.3f}\".format(gbModel.score(X_test, y_test)))"
   ]
  },
  {
   "cell_type": "code",
   "execution_count": 52,
   "id": "7fb2a0fe-1538-4cbe-914c-bc14d2ec8751",
   "metadata": {},
   "outputs": [],
   "source": [
    "y_pred = gbModel.predict(X_test)"
   ]
  },
  {
   "cell_type": "code",
   "execution_count": 53,
   "id": "e7ed7171-aa95-4e43-93eb-3f7583b45c9b",
   "metadata": {},
   "outputs": [],
   "source": [
    "Class_names = ['Exited', 'Loyal']"
   ]
  },
  {
   "cell_type": "code",
   "execution_count": 56,
   "id": "99b6da16-caad-41e2-b487-641569acbc46",
   "metadata": {},
   "outputs": [
    {
     "data": {
      "application/javascript": [
       "\n",
       "        if (window._pyforest_update_imports_cell) { window._pyforest_update_imports_cell('from sklearn.ensemble import GradientBoostingClassifier\\nimport seaborn as sns\\nimport sklearn\\nimport pandas as pd\\nimport matplotlib.pyplot as plt\\nimport numpy as np'); }\n",
       "    "
      ],
      "text/plain": [
       "<IPython.core.display.Javascript object>"
      ]
     },
     "metadata": {},
     "output_type": "display_data"
    },
    {
     "data": {
      "application/javascript": [
       "\n",
       "        if (window._pyforest_update_imports_cell) { window._pyforest_update_imports_cell('from sklearn.ensemble import GradientBoostingClassifier\\nimport seaborn as sns\\nimport sklearn\\nimport pandas as pd\\nimport matplotlib.pyplot as plt\\nimport numpy as np'); }\n",
       "    "
      ],
      "text/plain": [
       "<IPython.core.display.Javascript object>"
      ]
     },
     "metadata": {},
     "output_type": "display_data"
    },
    {
     "data": {
      "application/javascript": [
       "\n",
       "        if (window._pyforest_update_imports_cell) { window._pyforest_update_imports_cell('from sklearn.ensemble import GradientBoostingClassifier\\nimport seaborn as sns\\nimport sklearn\\nimport pandas as pd\\nimport matplotlib.pyplot as plt\\nimport numpy as np'); }\n",
       "    "
      ],
      "text/plain": [
       "<IPython.core.display.Javascript object>"
      ]
     },
     "metadata": {},
     "output_type": "display_data"
    },
    {
     "name": "stdout",
     "output_type": "stream",
     "text": [
      "Confusion matrix, without normalization\n",
      "[[1948   58]\n",
      " [ 321  173]]\n"
     ]
    },
    {
     "data": {
      "application/javascript": [
       "\n",
       "        if (window._pyforest_update_imports_cell) { window._pyforest_update_imports_cell('from sklearn.ensemble import GradientBoostingClassifier\\nimport seaborn as sns\\nimport sklearn\\nimport pandas as pd\\nimport matplotlib.pyplot as plt\\nimport numpy as np'); }\n",
       "    "
      ],
      "text/plain": [
       "<IPython.core.display.Javascript object>"
      ]
     },
     "metadata": {},
     "output_type": "display_data"
    },
    {
     "data": {
      "application/javascript": [
       "\n",
       "        if (window._pyforest_update_imports_cell) { window._pyforest_update_imports_cell('from sklearn.ensemble import GradientBoostingClassifier\\nimport seaborn as sns\\nimport sklearn\\nimport pandas as pd\\nimport matplotlib.pyplot as plt\\nimport numpy as np'); }\n",
       "    "
      ],
      "text/plain": [
       "<IPython.core.display.Javascript object>"
      ]
     },
     "metadata": {},
     "output_type": "display_data"
    },
    {
     "data": {
      "application/javascript": [
       "\n",
       "        if (window._pyforest_update_imports_cell) { window._pyforest_update_imports_cell('from sklearn.ensemble import GradientBoostingClassifier\\nimport seaborn as sns\\nimport sklearn\\nimport pandas as pd\\nimport matplotlib.pyplot as plt\\nimport numpy as np'); }\n",
       "    "
      ],
      "text/plain": [
       "<IPython.core.display.Javascript object>"
      ]
     },
     "metadata": {},
     "output_type": "display_data"
    },
    {
     "data": {
      "application/javascript": [
       "\n",
       "        if (window._pyforest_update_imports_cell) { window._pyforest_update_imports_cell('from sklearn.ensemble import GradientBoostingClassifier\\nimport seaborn as sns\\nimport sklearn\\nimport pandas as pd\\nimport matplotlib.pyplot as plt\\nimport numpy as np'); }\n",
       "    "
      ],
      "text/plain": [
       "<IPython.core.display.Javascript object>"
      ]
     },
     "metadata": {},
     "output_type": "display_data"
    },
    {
     "data": {
      "application/javascript": [
       "\n",
       "        if (window._pyforest_update_imports_cell) { window._pyforest_update_imports_cell('from sklearn.ensemble import GradientBoostingClassifier\\nimport seaborn as sns\\nimport sklearn\\nimport pandas as pd\\nimport matplotlib.pyplot as plt\\nimport numpy as np'); }\n",
       "    "
      ],
      "text/plain": [
       "<IPython.core.display.Javascript object>"
      ]
     },
     "metadata": {},
     "output_type": "display_data"
    },
    {
     "data": {
      "application/javascript": [
       "\n",
       "        if (window._pyforest_update_imports_cell) { window._pyforest_update_imports_cell('from sklearn.ensemble import GradientBoostingClassifier\\nimport seaborn as sns\\nimport sklearn\\nimport pandas as pd\\nimport matplotlib.pyplot as plt\\nimport numpy as np'); }\n",
       "    "
      ],
      "text/plain": [
       "<IPython.core.display.Javascript object>"
      ]
     },
     "metadata": {},
     "output_type": "display_data"
    },
    {
     "data": {
      "application/javascript": [
       "\n",
       "        if (window._pyforest_update_imports_cell) { window._pyforest_update_imports_cell('from sklearn.ensemble import GradientBoostingClassifier\\nimport seaborn as sns\\nimport sklearn\\nimport pandas as pd\\nimport matplotlib.pyplot as plt\\nimport numpy as np'); }\n",
       "    "
      ],
      "text/plain": [
       "<IPython.core.display.Javascript object>"
      ]
     },
     "metadata": {},
     "output_type": "display_data"
    },
    {
     "data": {
      "application/javascript": [
       "\n",
       "        if (window._pyforest_update_imports_cell) { window._pyforest_update_imports_cell('from sklearn.ensemble import GradientBoostingClassifier\\nimport seaborn as sns\\nimport sklearn\\nimport pandas as pd\\nimport matplotlib.pyplot as plt\\nimport numpy as np'); }\n",
       "    "
      ],
      "text/plain": [
       "<IPython.core.display.Javascript object>"
      ]
     },
     "metadata": {},
     "output_type": "display_data"
    },
    {
     "data": {
      "application/javascript": [
       "\n",
       "        if (window._pyforest_update_imports_cell) { window._pyforest_update_imports_cell('from sklearn.ensemble import GradientBoostingClassifier\\nimport seaborn as sns\\nimport sklearn\\nimport pandas as pd\\nimport matplotlib.pyplot as plt\\nimport numpy as np'); }\n",
       "    "
      ],
      "text/plain": [
       "<IPython.core.display.Javascript object>"
      ]
     },
     "metadata": {},
     "output_type": "display_data"
    },
    {
     "data": {
      "application/javascript": [
       "\n",
       "        if (window._pyforest_update_imports_cell) { window._pyforest_update_imports_cell('from sklearn.ensemble import GradientBoostingClassifier\\nimport seaborn as sns\\nimport sklearn\\nimport pandas as pd\\nimport matplotlib.pyplot as plt\\nimport numpy as np'); }\n",
       "    "
      ],
      "text/plain": [
       "<IPython.core.display.Javascript object>"
      ]
     },
     "metadata": {},
     "output_type": "display_data"
    },
    {
     "data": {
      "application/javascript": [
       "\n",
       "        if (window._pyforest_update_imports_cell) { window._pyforest_update_imports_cell('from sklearn.ensemble import GradientBoostingClassifier\\nimport seaborn as sns\\nimport sklearn\\nimport pandas as pd\\nimport matplotlib.pyplot as plt\\nimport numpy as np'); }\n",
       "    "
      ],
      "text/plain": [
       "<IPython.core.display.Javascript object>"
      ]
     },
     "metadata": {},
     "output_type": "display_data"
    },
    {
     "data": {
      "application/javascript": [
       "\n",
       "        if (window._pyforest_update_imports_cell) { window._pyforest_update_imports_cell('from sklearn.ensemble import GradientBoostingClassifier\\nimport seaborn as sns\\nimport sklearn\\nimport pandas as pd\\nimport matplotlib.pyplot as plt\\nimport numpy as np'); }\n",
       "    "
      ],
      "text/plain": [
       "<IPython.core.display.Javascript object>"
      ]
     },
     "metadata": {},
     "output_type": "display_data"
    },
    {
     "data": {
      "application/javascript": [
       "\n",
       "        if (window._pyforest_update_imports_cell) { window._pyforest_update_imports_cell('from sklearn.ensemble import GradientBoostingClassifier\\nimport seaborn as sns\\nimport sklearn\\nimport pandas as pd\\nimport matplotlib.pyplot as plt\\nimport numpy as np'); }\n",
       "    "
      ],
      "text/plain": [
       "<IPython.core.display.Javascript object>"
      ]
     },
     "metadata": {},
     "output_type": "display_data"
    },
    {
     "data": {
      "application/javascript": [
       "\n",
       "        if (window._pyforest_update_imports_cell) { window._pyforest_update_imports_cell('from sklearn.ensemble import GradientBoostingClassifier\\nimport seaborn as sns\\nimport sklearn\\nimport pandas as pd\\nimport matplotlib.pyplot as plt\\nimport numpy as np'); }\n",
       "    "
      ],
      "text/plain": [
       "<IPython.core.display.Javascript object>"
      ]
     },
     "metadata": {},
     "output_type": "display_data"
    },
    {
     "data": {
      "application/javascript": [
       "\n",
       "        if (window._pyforest_update_imports_cell) { window._pyforest_update_imports_cell('from sklearn.ensemble import GradientBoostingClassifier\\nimport seaborn as sns\\nimport sklearn\\nimport pandas as pd\\nimport matplotlib.pyplot as plt\\nimport numpy as np'); }\n",
       "    "
      ],
      "text/plain": [
       "<IPython.core.display.Javascript object>"
      ]
     },
     "metadata": {},
     "output_type": "display_data"
    },
    {
     "name": "stdout",
     "output_type": "stream",
     "text": [
      "Normalized confusion matrix\n",
      "[[0.97 0.03]\n",
      " [0.65 0.35]]\n"
     ]
    },
    {
     "data": {
      "application/javascript": [
       "\n",
       "        if (window._pyforest_update_imports_cell) { window._pyforest_update_imports_cell('from sklearn.ensemble import GradientBoostingClassifier\\nimport seaborn as sns\\nimport sklearn\\nimport pandas as pd\\nimport matplotlib.pyplot as plt\\nimport numpy as np'); }\n",
       "    "
      ],
      "text/plain": [
       "<IPython.core.display.Javascript object>"
      ]
     },
     "metadata": {},
     "output_type": "display_data"
    },
    {
     "data": {
      "application/javascript": [
       "\n",
       "        if (window._pyforest_update_imports_cell) { window._pyforest_update_imports_cell('from sklearn.ensemble import GradientBoostingClassifier\\nimport seaborn as sns\\nimport sklearn\\nimport pandas as pd\\nimport matplotlib.pyplot as plt\\nimport numpy as np'); }\n",
       "    "
      ],
      "text/plain": [
       "<IPython.core.display.Javascript object>"
      ]
     },
     "metadata": {},
     "output_type": "display_data"
    },
    {
     "data": {
      "application/javascript": [
       "\n",
       "        if (window._pyforest_update_imports_cell) { window._pyforest_update_imports_cell('from sklearn.ensemble import GradientBoostingClassifier\\nimport seaborn as sns\\nimport sklearn\\nimport pandas as pd\\nimport matplotlib.pyplot as plt\\nimport numpy as np'); }\n",
       "    "
      ],
      "text/plain": [
       "<IPython.core.display.Javascript object>"
      ]
     },
     "metadata": {},
     "output_type": "display_data"
    },
    {
     "data": {
      "application/javascript": [
       "\n",
       "        if (window._pyforest_update_imports_cell) { window._pyforest_update_imports_cell('from sklearn.ensemble import GradientBoostingClassifier\\nimport seaborn as sns\\nimport sklearn\\nimport pandas as pd\\nimport matplotlib.pyplot as plt\\nimport numpy as np'); }\n",
       "    "
      ],
      "text/plain": [
       "<IPython.core.display.Javascript object>"
      ]
     },
     "metadata": {},
     "output_type": "display_data"
    },
    {
     "data": {
      "application/javascript": [
       "\n",
       "        if (window._pyforest_update_imports_cell) { window._pyforest_update_imports_cell('from sklearn.ensemble import GradientBoostingClassifier\\nimport seaborn as sns\\nimport sklearn\\nimport pandas as pd\\nimport matplotlib.pyplot as plt\\nimport numpy as np'); }\n",
       "    "
      ],
      "text/plain": [
       "<IPython.core.display.Javascript object>"
      ]
     },
     "metadata": {},
     "output_type": "display_data"
    },
    {
     "data": {
      "application/javascript": [
       "\n",
       "        if (window._pyforest_update_imports_cell) { window._pyforest_update_imports_cell('from sklearn.ensemble import GradientBoostingClassifier\\nimport seaborn as sns\\nimport sklearn\\nimport pandas as pd\\nimport matplotlib.pyplot as plt\\nimport numpy as np'); }\n",
       "    "
      ],
      "text/plain": [
       "<IPython.core.display.Javascript object>"
      ]
     },
     "metadata": {},
     "output_type": "display_data"
    },
    {
     "data": {
      "application/javascript": [
       "\n",
       "        if (window._pyforest_update_imports_cell) { window._pyforest_update_imports_cell('from sklearn.ensemble import GradientBoostingClassifier\\nimport seaborn as sns\\nimport sklearn\\nimport pandas as pd\\nimport matplotlib.pyplot as plt\\nimport numpy as np'); }\n",
       "    "
      ],
      "text/plain": [
       "<IPython.core.display.Javascript object>"
      ]
     },
     "metadata": {},
     "output_type": "display_data"
    },
    {
     "data": {
      "application/javascript": [
       "\n",
       "        if (window._pyforest_update_imports_cell) { window._pyforest_update_imports_cell('from sklearn.ensemble import GradientBoostingClassifier\\nimport seaborn as sns\\nimport sklearn\\nimport pandas as pd\\nimport matplotlib.pyplot as plt\\nimport numpy as np'); }\n",
       "    "
      ],
      "text/plain": [
       "<IPython.core.display.Javascript object>"
      ]
     },
     "metadata": {},
     "output_type": "display_data"
    },
    {
     "data": {
      "application/javascript": [
       "\n",
       "        if (window._pyforest_update_imports_cell) { window._pyforest_update_imports_cell('from sklearn.ensemble import GradientBoostingClassifier\\nimport seaborn as sns\\nimport sklearn\\nimport pandas as pd\\nimport matplotlib.pyplot as plt\\nimport numpy as np'); }\n",
       "    "
      ],
      "text/plain": [
       "<IPython.core.display.Javascript object>"
      ]
     },
     "metadata": {},
     "output_type": "display_data"
    },
    {
     "data": {
      "application/javascript": [
       "\n",
       "        if (window._pyforest_update_imports_cell) { window._pyforest_update_imports_cell('from sklearn.ensemble import GradientBoostingClassifier\\nimport seaborn as sns\\nimport sklearn\\nimport pandas as pd\\nimport matplotlib.pyplot as plt\\nimport numpy as np'); }\n",
       "    "
      ],
      "text/plain": [
       "<IPython.core.display.Javascript object>"
      ]
     },
     "metadata": {},
     "output_type": "display_data"
    },
    {
     "data": {
      "application/javascript": [
       "\n",
       "        if (window._pyforest_update_imports_cell) { window._pyforest_update_imports_cell('from sklearn.ensemble import GradientBoostingClassifier\\nimport seaborn as sns\\nimport sklearn\\nimport pandas as pd\\nimport matplotlib.pyplot as plt\\nimport numpy as np'); }\n",
       "    "
      ],
      "text/plain": [
       "<IPython.core.display.Javascript object>"
      ]
     },
     "metadata": {},
     "output_type": "display_data"
    },
    {
     "data": {
      "application/javascript": [
       "\n",
       "        if (window._pyforest_update_imports_cell) { window._pyforest_update_imports_cell('from sklearn.ensemble import GradientBoostingClassifier\\nimport seaborn as sns\\nimport sklearn\\nimport pandas as pd\\nimport matplotlib.pyplot as plt\\nimport numpy as np'); }\n",
       "    "
      ],
      "text/plain": [
       "<IPython.core.display.Javascript object>"
      ]
     },
     "metadata": {},
     "output_type": "display_data"
    },
    {
     "data": {
      "application/javascript": [
       "\n",
       "        if (window._pyforest_update_imports_cell) { window._pyforest_update_imports_cell('from sklearn.ensemble import GradientBoostingClassifier\\nimport seaborn as sns\\nimport sklearn\\nimport pandas as pd\\nimport matplotlib.pyplot as plt\\nimport numpy as np'); }\n",
       "    "
      ],
      "text/plain": [
       "<IPython.core.display.Javascript object>"
      ]
     },
     "metadata": {},
     "output_type": "display_data"
    },
    {
     "data": {
      "application/javascript": [
       "\n",
       "        if (window._pyforest_update_imports_cell) { window._pyforest_update_imports_cell('from sklearn.ensemble import GradientBoostingClassifier\\nimport seaborn as sns\\nimport sklearn\\nimport pandas as pd\\nimport matplotlib.pyplot as plt\\nimport numpy as np'); }\n",
       "    "
      ],
      "text/plain": [
       "<IPython.core.display.Javascript object>"
      ]
     },
     "metadata": {},
     "output_type": "display_data"
    },
    {
     "data": {
      "image/png": "[encoded data removed]",
      "text/plain": [
       "<Figure size 432x288 with 2 Axes>"
      ]
     },
     "metadata": {
      "needs_background": "light"
     },
     "output_type": "display_data"
    },
    {
     "data": {
      "image/png": "[encoded data removed]",
      "text/plain": [
       "<Figure size 432x288 with 2 Axes>"
      ]
     },
     "metadata": {
      "needs_background": "light"
     },
     "output_type": "display_data"
    }
   ],
   "source": [
    "import itertools\n",
    "from sklearn import svm, datasets\n",
    "from sklearn.metrics import confusion_matrix\n",
    "\n",
    "def plot_confusion_matrix(cm, classes,\n",
    "                          normalize=False,\n",
    "                          title='Confusion matrix',\n",
    "                          cmap=plt.cm.Blues):\n",
    "    \"\"\"\n",
    "    This function prints and plots the confusion matrix.\n",
    "    Normalization can be applied by setting `normalize=True`.\n",
    "    \"\"\"\n",
    "    if normalize:\n",
    "        cm = cm.astype('float') / cm.sum(axis=1)[:, np.newaxis]\n",
    "        print(\"Normalized confusion matrix\")\n",
    "    else:\n",
    "        print('Confusion matrix, without normalization')\n",
    "\n",
    "    print(cm)\n",
    "\n",
    "    plt.imshow(cm, interpolation='nearest', cmap=cmap)\n",
    "    plt.title(title)\n",
    "    plt.colorbar()\n",
    "    tick_marks = np.arange(len(classes))\n",
    "    plt.xticks(tick_marks, classes, rotation=45)\n",
    "    plt.yticks(tick_marks, classes)\n",
    "\n",
    "    fmt = '.2f' if normalize else 'd'\n",
    "    thresh = cm.max() / 2.\n",
    "    for i, j in itertools.product(range(cm.shape[0]), range(cm.shape[1])):\n",
    "        plt.text(j, i, format(cm[i, j], fmt),\n",
    "                 horizontalalignment=\"center\",\n",
    "                 color=\"white\" if cm[i, j] > thresh else \"black\")\n",
    "\n",
    "    plt.ylabel('True label')\n",
    "    plt.xlabel('Predicted label')\n",
    "    plt.tight_layout()\n",
    "\n",
    "\n",
    "# Compute confusion matrix\n",
    "cnf_matrix = confusion_matrix(y_test, y_pred)\n",
    "np.set_printoptions(precision=2)\n",
    "\n",
    "# Plot non-normalized confusion matrix\n",
    "plt.figure()\n",
    "plot_confusion_matrix(cnf_matrix, classes=Class_names,\n",
    "                      title='Confusion matrix, without normalization')\n",
    "#plt.savefig('figures/RF_cm_multi_class.png')\n",
    "\n",
    "# Plot normalized confusion matrix\n",
    "plt.figure()\n",
    "plot_confusion_matrix(cnf_matrix, classes=Class_names, normalize=True,\n",
    "                      title='Normalized confusion matrix')\n",
    "#plt.savefig('figures/RF_cm_proportion_multi_class.png', bbox_inches=\"tight\")\n",
    "plt.show()"
   ]
  },
  {
   "cell_type": "code",
   "execution_count": 58,
   "id": "6478e3b2-4888-4c34-b950-373f4bbbcb13",
   "metadata": {},
   "outputs": [
    {
     "name": "stdout",
     "output_type": "stream",
     "text": [
      "No Skill: ROC AUC=0.500\n",
      "Ensemble: ROC AUC=0.829\n"
     ]
    },
    {
     "data": {
      "application/javascript": [
       "\n",
       "        if (window._pyforest_update_imports_cell) { window._pyforest_update_imports_cell('from sklearn.ensemble import GradientBoostingClassifier\\nimport seaborn as sns\\nimport sklearn\\nimport pandas as pd\\nimport matplotlib.pyplot as plt\\nimport numpy as np'); }\n",
       "    "
      ],
      "text/plain": [
       "<IPython.core.display.Javascript object>"
      ]
     },
     "metadata": {},
     "output_type": "display_data"
    },
    {
     "data": {
      "application/javascript": [
       "\n",
       "        if (window._pyforest_update_imports_cell) { window._pyforest_update_imports_cell('from sklearn.ensemble import GradientBoostingClassifier\\nimport seaborn as sns\\nimport sklearn\\nimport pandas as pd\\nimport matplotlib.pyplot as plt\\nimport numpy as np'); }\n",
       "    "
      ],
      "text/plain": [
       "<IPython.core.display.Javascript object>"
      ]
     },
     "metadata": {},
     "output_type": "display_data"
    },
    {
     "data": {
      "application/javascript": [
       "\n",
       "        if (window._pyforest_update_imports_cell) { window._pyforest_update_imports_cell('from sklearn.ensemble import GradientBoostingClassifier\\nimport seaborn as sns\\nimport sklearn\\nimport pandas as pd\\nimport matplotlib.pyplot as plt\\nimport numpy as np'); }\n",
       "    "
      ],
      "text/plain": [
       "<IPython.core.display.Javascript object>"
      ]
     },
     "metadata": {},
     "output_type": "display_data"
    },
    {
     "data": {
      "application/javascript": [
       "\n",
       "        if (window._pyforest_update_imports_cell) { window._pyforest_update_imports_cell('from sklearn.ensemble import GradientBoostingClassifier\\nimport seaborn as sns\\nimport sklearn\\nimport pandas as pd\\nimport matplotlib.pyplot as plt\\nimport numpy as np'); }\n",
       "    "
      ],
      "text/plain": [
       "<IPython.core.display.Javascript object>"
      ]
     },
     "metadata": {},
     "output_type": "display_data"
    },
    {
     "data": {
      "application/javascript": [
       "\n",
       "        if (window._pyforest_update_imports_cell) { window._pyforest_update_imports_cell('from sklearn.ensemble import GradientBoostingClassifier\\nimport seaborn as sns\\nimport sklearn\\nimport pandas as pd\\nimport matplotlib.pyplot as plt\\nimport numpy as np'); }\n",
       "    "
      ],
      "text/plain": [
       "<IPython.core.display.Javascript object>"
      ]
     },
     "metadata": {},
     "output_type": "display_data"
    },
    {
     "data": {
      "application/javascript": [
       "\n",
       "        if (window._pyforest_update_imports_cell) { window._pyforest_update_imports_cell('from sklearn.ensemble import GradientBoostingClassifier\\nimport seaborn as sns\\nimport sklearn\\nimport pandas as pd\\nimport matplotlib.pyplot as plt\\nimport numpy as np'); }\n",
       "    "
      ],
      "text/plain": [
       "<IPython.core.display.Javascript object>"
      ]
     },
     "metadata": {},
     "output_type": "display_data"
    },
    {
     "data": {
      "image/png": "[encoded data removed]",
      "text/plain": [
       "<Figure size 432x288 with 1 Axes>"
      ]
     },
     "metadata": {
      "needs_background": "light"
     },
     "output_type": "display_data"
    }
   ],
   "source": [
    "from sklearn.metrics import classification_report, confusion_matrix, roc_curve, auc\n",
    "from sklearn.metrics import roc_auc_score\n",
    "probs = gbModel.predict_proba(X_test)\n",
    "probs = probs[:,1]\n",
    "#X, y = make_classification(n_samples=1000, n_classes=2, random_state=1)\n",
    "# generate a no skill prediction (majority class)\n",
    "ns_probs = [0 for _ in range(len(y_test))]\n",
    "# predict probabilities\n",
    "probs = gbModel.predict_proba(X_test)\n",
    "# keep probabilities for the positive outcome only\n",
    "probs = probs[:, 1]\n",
    "# calculate scores\n",
    "ns_auc = roc_auc_score(y_test, ns_probs)\n",
    "lr_auc = roc_auc_score(y_test, probs)\n",
    "# summarize scores\n",
    "print('No Skill: ROC AUC=%.3f' % (ns_auc))\n",
    "print('Ensemble: ROC AUC=%.3f' % (lr_auc))\n",
    "# calculate roc curves\n",
    "ns_fpr, ns_tpr, _ = roc_curve(y_test, ns_probs)\n",
    "lr_fpr, lr_tpr, _ = roc_curve(y_test, probs)\n",
    "# plot the roc curve for the model\n",
    "plt.plot(ns_fpr, ns_tpr, linestyle='--', label='')\n",
    "plt.plot(lr_fpr, lr_tpr, marker='.', label='Enseble')\n",
    "# axis labels\n",
    "plt.xlabel('False Positive Rate')\n",
    "plt.ylabel('True Positive Rate')\n",
    "# show the legend\n",
    "plt.legend()\n",
    "# show the plot\n",
    "plt.show()\n"
   ]
  },
  {
   "cell_type": "code",
   "execution_count": null,
   "id": "21209db6-57c7-4872-8dfc-66b3d4d6b2a1",
   "metadata": {},
   "outputs": [],
   "source": []
  },
  {
   "cell_type": "code",
   "execution_count": null,
   "id": "6e650bae-c672-40a5-8a76-f6d9d83496ea",
   "metadata": {},
   "outputs": [],
   "source": []
  }
 ],
 "metadata": {
  "kernelspec": {
   "display_name": "Python 3",
   "language": "python",
   "name": "python3"
  },
  "language_info": {
   "codemirror_mode": {
    "name": "ipython",
    "version": 3
   },
   "file_extension": ".py",
   "mimetype": "text/x-python",
   "name": "python",
   "nbconvert_exporter": "python",
   "pygments_lexer": "ipython3",
   "version": "3.8.8"
  }
 },
 "nbformat": 4,
 "nbformat_minor": 5
}
